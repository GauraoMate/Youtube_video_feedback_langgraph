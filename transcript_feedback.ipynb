{
 "cells": [
  {
   "cell_type": "code",
   "execution_count": 60,
   "metadata": {},
   "outputs": [],
   "source": [
    "from typing import TypedDict, Optional, Dict, Any, Literal\n",
    "from pydantic import BaseModel, Field\n",
    "from langchain_core.language_models import BaseLLM\n",
    "from langgraph.graph import StateGraph, START, END\n",
    "from youtube_transcript_api import YouTubeTranscriptApi\n",
    "import re\n",
    "from IPython.display import display, Image\n",
    "from dotenv import load_dotenv\n",
    "import os\n",
    "\n",
    "load_dotenv()\n",
    "\n",
    "from langchain_groq import ChatGroq\n",
    "os.environ[\"GROQ_API_KEY\"]=os.getenv(\"GROQ_API_KEY\")\n",
    "\n",
    "llm=ChatGroq(model=\"qwen-2.5-32b\")"
   ]
  },
  {
   "cell_type": "code",
   "execution_count": 61,
   "metadata": {},
   "outputs": [],
   "source": [
    "def extract_video_url(url: str) -> str:\n",
    "    \"\"\"Extract video ID from YouTube URL\"\"\"\n",
    "    video_id_match = re.search(r'(?:v=|\\/)([0-9A-Za-z_-]{11}).*',url)\n",
    "    if video_id_match:\n",
    "        return video_id_match.group(1)\n",
    "    return url"
   ]
  },
  {
   "cell_type": "code",
   "execution_count": 62,
   "metadata": {},
   "outputs": [],
   "source": [
    "def extract_video_id(url: str) -> str:\n",
    "    \"\"\"Extract video ID from a YouTube URL.\"\"\"\n",
    "    import re\n",
    "    video_id_match = re.search(r'(?:v=|\\/)([0-9A-Za-z_-]{11}).*', url)\n",
    "    if video_id_match:\n",
    "        return video_id_match.group(1)\n",
    "    return url"
   ]
  },
  {
   "cell_type": "code",
   "execution_count": 63,
   "metadata": {},
   "outputs": [],
   "source": [
    "class State(TypedDict):\n",
    "    youtube_url: str\n",
    "    video_id: Optional[str]\n",
    "    transcript: Optional[str]\n",
    "    blog_post: Optional[str]\n",
    "    feedback: Optional[str]\n",
    "    is_approved: Optional[str]"
   ]
  },
  {
   "cell_type": "code",
   "execution_count": 64,
   "metadata": {},
   "outputs": [],
   "source": [
    "class BlogFeedback(BaseModel):\n",
    "    approved: bool = Field(description=\"Whether the blog post approved or need revision\")\n",
    "    feedback: str = Field(description=\"Feedback for improving blog post approved if not approved\")"
   ]
  },
  {
   "cell_type": "code",
   "execution_count": 65,
   "metadata": {},
   "outputs": [],
   "source": [
    "def extract_transcript(state:State) ->Dict[str,Any]:\n",
    "    \"\"\"Extract transcript from Youtube Video\"\"\"\n",
    "    video_id = extract_video_id(state[\"youtube_url\"])\n",
    "    try:\n",
    "        transcript_list = YouTubeTranscriptApi.get_transcript(video_id)\n",
    "        transcript_text = \" \".join([entry[\"text\"] for entry in transcript_list])\n",
    "        return {\"video_id\": video_id, \"transcript\": transcript_text}\n",
    "    except Exception as e:\n",
    "        return {\"video_id\": video_id, \"error\": f\"Failed to extract transcript: {str(e)}\"}"
   ]
  },
  {
   "cell_type": "code",
   "execution_count": 66,
   "metadata": {},
   "outputs": [],
   "source": [
    "def generate_blog_post(state:State, llm:BaseLLM) -> Dict[str, Any]:\n",
    "    \"\"\"Generate a blog post from the transcript\"\"\"\n",
    "    prompt = f\"\"\"\n",
    "    Based on the following YouTube transcript create a engaging blog post\n",
    "    TRANSCRIPT:\n",
    "    {state[\"transcript\"][:4000]}\n",
    "\n",
    "    \"\"\"\n",
    "    if state.get(\"feedback\"):\n",
    "        prompt += f\"\"\"\n",
    "        Incorporate the following feedback ino your revision:\n",
    "        {state[\"feedback\"]}\n",
    "        \"\"\"\n",
    "    response = llm.invoke(prompt)\n",
    "    return{\"blog_post\":response.content}"
   ]
  },
  {
   "cell_type": "code",
   "execution_count": 67,
   "metadata": {},
   "outputs": [],
   "source": [
    "def get_human_feedback(state: State) -> Dict[str, Any]:\n",
    "    \"\"\"Get human feedback on the blog post.\"\"\"\n",
    "    print(\"\\n--- GENERATED BLOG POST ---\\n\")\n",
    "    print(state[\"blog_post\"])\n",
    "    print(\"\\n--- END OF BLOG POST ---\\n\")\n",
    "    \n",
    "    while True:\n",
    "        approval = input(\"Do you approve this blog post? (yes/no): \").strip().lower()\n",
    "        if approval in [\"yes\", \"no\"]:\n",
    "            if approval == \"yes\":\n",
    "                return {\"is_approved\": True, \"feedback\": \"Approved\"}\n",
    "            else:\n",
    "                # This line had the error - feedback variable was used before being defined\n",
    "                feedback = input(\"Please provide feedback for improvement: \").strip()\n",
    "                return {\"is_approved\": False, \"feedback\": feedback}\n",
    "        print(\"Please answer with 'yes' or 'no'.\")"
   ]
  },
  {
   "cell_type": "code",
   "execution_count": 68,
   "metadata": {},
   "outputs": [],
   "source": [
    "def should_revise(state:State) -> str:\n",
    "    \"\"\"Determine if the blog needs to be revised based on human feedback\"\"\"\n",
    "    if state[\"is_approved\"]:\n",
    "        return \"APPROVED\"\n",
    "    else:\n",
    "        return \"NEEDS_REVISION\""
   ]
  },
  {
   "cell_type": "code",
   "execution_count": 69,
   "metadata": {},
   "outputs": [],
   "source": [
    "def generate_with_llm(state: State) -> Dict[str, Any]:\n",
    "        return generate_blog_post(state, llm)"
   ]
  },
  {
   "cell_type": "code",
   "execution_count": 70,
   "metadata": {},
   "outputs": [],
   "source": [
    "\n",
    "workflow_builder = StateGraph(State)\n",
    "\n",
    "workflow_builder.add_node(\"extract_transcript\",extract_transcript)\n",
    "workflow_builder.add_node(\"generate_blog_post\", generate_with_llm)\n",
    "workflow_builder.add_node(\"get_human_feedback\", get_human_feedback)\n",
    "\n",
    "workflow_builder.add_edge(START, \"extract_transcript\")\n",
    "workflow_builder.add_edge(\"extract_transcript\", \"generate_blog_post\")\n",
    "workflow_builder.add_edge(\"generate_blog_post\", \"get_human_feedback\")\n",
    "\n",
    "workflow_builder.add_conditional_edges(\n",
    "    \"get_human_feedback\",\n",
    "    should_revise,\n",
    "    {\n",
    "        \"APPROVED\":END,\n",
    "        \"NEEDS_REVISION\": \"generate_blog_post\"\n",
    "    }\n",
    ")\n",
    "\n",
    "graph = workflow_builder.compile()"
   ]
  },
  {
   "cell_type": "code",
   "execution_count": 71,
   "metadata": {},
   "outputs": [
    {
     "data": {
      "image/png": "[encoded data removed]",
      "text/plain": [
       "<IPython.core.display.Image object>"
      ]
     },
     "metadata": {},
     "output_type": "display_data"
    }
   ],
   "source": [
    "display(Image(graph.get_graph().draw_mermaid_png()))"
   ]
  },
  {
   "cell_type": "code",
   "execution_count": 72,
   "metadata": {},
   "outputs": [
    {
     "name": "stdout",
     "output_type": "stream",
     "text": [
      "\n",
      "--- GENERATED BLOG POST ---\n",
      "\n",
      "### The Heartfelt Journey of Pedro Pascal: From Chile to Hollywood\n",
      "\n",
      "Pedro Pascal, a name that has become synonymous with some of the most iconic characters in recent television and film, shared an incredibly candid and humorous story that left audiences in stitches and touched hearts. His journey from a freezing Canadian forest to the bright lights of Hollywood is not just a tale of success, but of perseverance, family, and the unexpected twists of fate.\n",
      "\n",
      "#### The Forest, the Genital Wart, and the Wart Wearing a Mask\n",
      "\n",
      "Pascal, known for his leading role in \"The Last of Us,\" recounted his latest adventure shooting in a \"freezing Canadian forest,\" all while being chased by a creature whose head looked like a \"genital wart.\" This stark contrast to the five-star Italian resorts of some of his other projects only adds to the charm of his storytelling. The humor in his recount of these experiences is not just a testament to his comedic timing but also a reflection of his genuine appreciation for the roles he takes on.\n",
      "\n",
      "#### From \"The Mandalorian\" to the 6-Year-Old Fan\n",
      "\n",
      "One of the most heartwarming moments Pascal shared was the time he was approached by a fan in the street. The encounter culminated in a FaceTime call with a 6-year-old child who had no clue who Pedro was, only recognizing the voice behind the mask of \"The Mando.\" This quirky anecdote not only highlights the global reach and impact of the show but also showcases the playful and generous nature of the actor.\n",
      "\n",
      "#### A Proud Legacy: Family First\n",
      "\n",
      "Pascal’s pride in his Chilean roots and the love for his extended family is palpably clear. With 34 first cousins in Chile, he shares a unique bond that has only grown stronger with his success. However, this success comes with its own set of challenges. His cousins, ever the proud supporters, have a knack for sharing his contact information, leading to unexpected text messages and requests from his home country. This delightful quirk is a humorous reminder of the unbreakable ties of family and the unique ways in which success can bridge distances and cultures.\n",
      "\n",
      "#### From Crime Shows to Global Icons\n",
      "\n",
      "Before becoming the face of \"The Last of Us\" and \"The Mandalorian,\" Pascal was known for his roles in gritty crime shows. His ability to seamlessly switch between genres and characters, from the menacing Tito Cabassa to Reggie Luckman in \"Law and Order,\" showcases his immense talent and range as an actor. This range, as he humorously put it, is what sets his career apart.\n",
      "\n",
      "#### A Message of Gratitude\n",
      "\n",
      "In closing, Pascal's message to his family in Chile was a poignant reminder of the journey he has traveled. From the bravery of his parents fleeing Chile when he was a child to his current standing in the entertainment industry, his heart was filled with gratitude. His heartfelt farewell, \"I love you, I miss you, and stop giving out my phone number,\" was not just a joke but a reflection on the importance of maintaining a connection to one's roots and family, even as one reaches the pinnacle of their profession.\n",
      "\n",
      "Pedro Pascal's journey from the freezing forests of Canada to the stage where he stood, speaking with such warmth and humor, is a story of not just an actor's journey but a human one. It reminds us all of the importance of true passion, the love of family, and the unexpected twists and turns that make life's journey truly memorable.\n",
      "\n",
      "--- END OF BLOG POST ---\n",
      "\n",
      "\n",
      "--- GENERATED BLOG POST ---\n",
      "\n",
      "### From Chile to the Silver Screen: Pedro Pascal's Journey and His Comedy Gold\n",
      "\n",
      "Pedro Pascal, known for his roles in \"The Mandalorian,\" \"Game of Thrones,\" and his latest venture in \"The Last of Us,\" took the stage with a blend of humility and humor, sharing insights into his life, career, and the quirky ways fame has impacted his personal life.\n",
      "\n",
      "#### The \"Last of Us\" and the Choice of Cold Canadian Forests\n",
      "\n",
      "Pascal's latest role in \"The Last of Us\" has brought him into the limelight once again, and he doesn't shy away from humorously detailing the conditions under which he filmed this gritty survival drama. He joked, \"For some HBO shows, you get to shoot in a five-star Italian resort surrounded by beautiful people. But I said, no, that's too easy. I want to shoot in a freezing Canadian forest while being chased around by a guy whose head looks like a genital wart.\" This candid admission of the show's challenging filming conditions only adds to the admiration for his dedication and the show's authenticity.\n",
      "\n",
      "#### Fame and Its Unpredictable Moments\n",
      "\n",
      "Fame has its perks, but it also comes with its share of quirks, as Pascal humorously points out. During a candid moment, he shared an encounter where a man approached him on the street, excitedly telling him his son loves \"The Mandalorian.\" This led to a FaceTime call with a 6-year-old boy, who, unaware of the man behind the mask, was just as intrigued as any fan. Pascal's attempt to mimic the Mandalorian's distinctive voice, without the mask, was another laugh-inducing moment, demonstrating the unique challenges of playing a character so iconic.\n",
      "\n",
      "#### The Importance of Family and a Dose of Humor\n",
      "\n",
      "Growing up in Chile and coming to the U.S. at a young age, Pascal's journey is not just a tale of Hollywood success but also a story of family and gratitude. Reflecting on his roots, he mentions the 34 cousins he has back in Chile, who, while proud of his success, have found a rather unique way to reach out to him. From wedding invitations to birthday wishes for priests, Pascal humorously noted the daily texts and calls that come with his family's pride in him.\n",
      "\n",
      "But it's his early career that Pascal refers to with a chuckle. He revealed that he played small parts in various crime shows, even appearing in \"Law and Order\" twice, in two different roles with drastically different appearances. \"That's what I call range,\" he quips, showing that his talent for varied roles is what has brought him to where he is today.\n",
      "\n",
      "#### A Message of Gratitude and Love\n",
      "\n",
      "In a moment that brought both laughter and a touch of emotion, Pascal addressed his family in Chile in their native language, expressing his love and gratitude. \"I love you, I miss you, and stop giving out my phone number,\" he said, ending on a note of fond exasperation that resonates with anyone with a large, loving family.\n",
      "\n",
      "Pedro Pascal's journey from the streets of Chile to the global stage is a testament to hard work and the unexpected twists and turns of life. His ability to laugh at himself and share these experiences with humor and grace not only entertains but also humanizes the star, making him relatable to fans around the world.\n",
      "\n",
      "--- END OF BLOG POST ---\n",
      "\n",
      "Please answer with 'yes' or 'no'.\n",
      "Please answer with 'yes' or 'no'.\n",
      "{'youtube_url': 'https://www.youtube.com/watch?v=QsYGlZkevEg', 'video_id': 'QsYGlZkevEg', 'transcript': 'LADIES AND GENTLEMEN, PEDRO  PASCAL! [ CHEERS AND APPLAUSE ] >> THANK YOU, THANK YOU. THANK YOU VERY MUCH. I\\'M SO EXCITED TO BE HERE. THANK YOU. I SPENT THE LAST YEAR SHOOTING A SHOW CALLED \"THE LAST OF US\" ON  HBO. FOR SOME HBO SHOES, YOU GET TO  SHOOT IN A FIVE STAR ITALIAN  RESORT SURROUNDED BY BEAUTIFUL  PEOPLE, BUT I SAID, NO, THAT\\'S  TOO EASY. I WANT TO SHOOT IN A FREEZING  CANADIAN FOREST WHILE BEING  CHASED AROUND BY A GUY WHOSE  HEAD LOOKS LIKE A GENITAL WART. IT IS AN HONOR BEING A PART OF  THESE HUGE FRANCHISEs LIKE \"GAME OF THRONES\" AND \"STAR WARS,\" BUT I\\'M STILL GETTING USED TO PEOPLE RECOGNIZING ME. THE OTHER DAY, A GUY STOPPED ME  ON THE STREET AND SAYS, MY SON  LOVES \"THE MANDALORIAN\" AND THE  NEXT THING I KNOW, I\\'M FACE  TIMING WITH A 6-YEAR-OLD WHO HAS NO IDEA WHO I AM BECAUSE MY  CHARACTER WEARS A MASK THE  ENTIRE SHOW. THE GUY IS LIKE, DO THE MANDO  VOICE, BUT IT\\'S LIKE A BEDROOM  VOICE. WITHOUT THE MASK, IT JUST SOUNDS PORNY. PEOPLE WALKING BY ON THE STREET  SEE ME WHISPERING TO A  6-YEAR-OLD KID. I CAN BRING YOU IN WARM, OR I  CAN BRING YOU IN COLD. EVEN THOUGH I CAME TO THE U.S.  WHEN I WAS LITTLE, I WAS BORN IN CHILE, AND I HAVE 34 FIRST  COUSINS WHO ARE STILL THERE. THEY\\'RE VERY PROUD OF ME. I KNOW THEY\\'RE PROUD BECAUSE  THEY GIVE MY PHONE NUMBER TO  EVERY PERSON THEY MEET, WHICH  MEANS EVERY DAY, SOMEONE IN  SANTIAGO WILL TEXT ME STUFF  LIKE, CAN YOU COME TO MY  WEDDING, OR CAN YOU SING MY  PRIEST HAPPY BIRTHDAY, OR IS  BABY YODA MEAN IN REAL LIFE. SO I HAVE TO BE LIKE NO, NO, AND HIS NAME IS GROGU. BUT MY COUSINS WEREN\\'T ALWAYS SO PROUD. EARLY IN MY CAREER, I PLAYED  SMALL PARTS IN EVERY CRIME SHOW. I EVEN PLAYED TWO DIFFERENT  CHARACTERS ON \"LAW AND ORDER.\" TITO CABASSA WHO LOOKED LIKE  THIS. AND ONE YEAR LATER, I PLAYED  REGGIE LUCKMAN WHO LOOKS LIKE  THIS. AND THAT, MY FRIENDS, IS CALLED  RANGE. BUT IT IS AMAZING TO BE HERE,  LIKE I SAID. I WAS BORN IN CHILE, AND NINE  MONTHS LATER, MY PARENTS FLED  AND BROUGHT ME AND MY SISTER TO  THE U.S. THEY WERE SO BRAVE, AND WITHOUT  THEM, I WOULDN\\'T BE HERE IN THIS WONDERFUL COUNTRY, AND I  CERTAINLY WOULDN\\'T BE STANDING  HERE WITH YOU ALL TONIGHT. SO TO ALL MY FAMILY WATCHING IN  CHILE, I WANT TO SAY  [ SPEAKING NON-ENGLISH ] WHICH MEANS, I LOVE YOU, I MISS  YOU, AND STOP GIVING OUT MY  PHONE NUMBER. WE\\'VE GOT AN AMAZING SHOW FOR  YOU TONIGHT. COLDPLAY IS HERE, SO STICK', 'blog_post': '### From Chile to the Silver Screen: Pedro Pascal\\'s Journey and His Comedy Gold\\n\\nPedro Pascal, known for his roles in \"The Mandalorian,\" \"Game of Thrones,\" and his latest venture in \"The Last of Us,\" took the stage with a blend of humility and humor, sharing insights into his life, career, and the quirky ways fame has impacted his personal life.\\n\\n#### The \"Last of Us\" and the Choice of Cold Canadian Forests\\n\\nPascal\\'s latest role in \"The Last of Us\" has brought him into the limelight once again, and he doesn\\'t shy away from humorously detailing the conditions under which he filmed this gritty survival drama. He joked, \"For some HBO shows, you get to shoot in a five-star Italian resort surrounded by beautiful people. But I said, no, that\\'s too easy. I want to shoot in a freezing Canadian forest while being chased around by a guy whose head looks like a genital wart.\" This candid admission of the show\\'s challenging filming conditions only adds to the admiration for his dedication and the show\\'s authenticity.\\n\\n#### Fame and Its Unpredictable Moments\\n\\nFame has its perks, but it also comes with its share of quirks, as Pascal humorously points out. During a candid moment, he shared an encounter where a man approached him on the street, excitedly telling him his son loves \"The Mandalorian.\" This led to a FaceTime call with a 6-year-old boy, who, unaware of the man behind the mask, was just as intrigued as any fan. Pascal\\'s attempt to mimic the Mandalorian\\'s distinctive voice, without the mask, was another laugh-inducing moment, demonstrating the unique challenges of playing a character so iconic.\\n\\n#### The Importance of Family and a Dose of Humor\\n\\nGrowing up in Chile and coming to the U.S. at a young age, Pascal\\'s journey is not just a tale of Hollywood success but also a story of family and gratitude. Reflecting on his roots, he mentions the 34 cousins he has back in Chile, who, while proud of his success, have found a rather unique way to reach out to him. From wedding invitations to birthday wishes for priests, Pascal humorously noted the daily texts and calls that come with his family\\'s pride in him.\\n\\nBut it\\'s his early career that Pascal refers to with a chuckle. He revealed that he played small parts in various crime shows, even appearing in \"Law and Order\" twice, in two different roles with drastically different appearances. \"That\\'s what I call range,\" he quips, showing that his talent for varied roles is what has brought him to where he is today.\\n\\n#### A Message of Gratitude and Love\\n\\nIn a moment that brought both laughter and a touch of emotion, Pascal addressed his family in Chile in their native language, expressing his love and gratitude. \"I love you, I miss you, and stop giving out my phone number,\" he said, ending on a note of fond exasperation that resonates with anyone with a large, loving family.\\n\\nPedro Pascal\\'s journey from the streets of Chile to the global stage is a testament to hard work and the unexpected twists and turns of life. His ability to laugh at himself and share these experiences with humor and grace not only entertains but also humanizes the star, making him relatable to fans around the world.', 'feedback': 'Approved', 'is_approved': True}\n"
     ]
    }
   ],
   "source": [
    "youtube_url=\"https://www.youtube.com/watch?v=QsYGlZkevEg\"\n",
    "\n",
    "result = graph.invoke({\"youtube_url\": youtube_url})\n",
    "print(result)"
   ]
  }
 ],
 "metadata": {
  "kernelspec": {
   "display_name": "Python 3",
   "language": "python",
   "name": "python3"
  },
  "language_info": {
   "codemirror_mode": {
    "name": "ipython",
    "version": 3
   },
   "file_extension": ".py",
   "mimetype": "text/x-python",
   "name": "python",
   "nbconvert_exporter": "python",
   "pygments_lexer": "ipython3",
   "version": "3.12.8"
  }
 },
 "nbformat": 4,
 "nbformat_minor": 2
}
